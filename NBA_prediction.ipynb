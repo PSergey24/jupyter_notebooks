{
  "nbformat": 4,
  "nbformat_minor": 0,
  "metadata": {
    "colab": {
      "name": "NBA_prediction.ipynb",
      "provenance": [],
      "collapsed_sections": [],
      "mount_file_id": "1RE_jxnBU9j-GjfB2cfKnYTdSucSpeef8",
      "authorship_tag": "ABX9TyOsTZVWRq1ThbMLjvKIyJzu",
      "include_colab_link": true
    },
    "kernelspec": {
      "name": "python3",
      "display_name": "Python 3"
    },
    "language_info": {
      "name": "python"
    }
  },
  "cells": [
    {
      "cell_type": "markdown",
      "metadata": {
        "id": "view-in-github",
        "colab_type": "text"
      },
      "source": [
        "<a href=\"https://colab.research.google.com/github/PSergey24/jupyter_notebooks/blob/main/NBA_prediction.ipynb\" target=\"_parent\"><img src=\"https://colab.research.google.com/assets/colab-badge.svg\" alt=\"Open In Colab\"/></a>"
      ]
    },
    {
      "cell_type": "code",
      "execution_count": 181,
      "metadata": {
        "id": "SSiUxs81VlZ6"
      },
      "outputs": [],
      "source": [
        "import pandas as pd\n",
        "import matplotlib.pyplot as plt\n",
        "from sklearn.model_selection import train_test_split\n",
        "from sklearn.pipeline import Pipeline\n",
        "from sklearn.linear_model import LogisticRegression\n",
        "from sklearn.feature_extraction.text import TfidfVectorizer\n",
        "from sklearn.metrics import precision_score, recall_score, precision_recall_curve\n",
        "from matplotlib import pyplot as plt\n",
        "from sklearn.metrics import plot_precision_recall_curve\n",
        "import numpy as np\n",
        "from sklearn.model_selection import GridSearchCV"
      ]
    },
    {
      "cell_type": "code",
      "source": [
        "df_all = pd.read_csv('drive/MyDrive/Colab Notebooks/data/dataset_9_6_2022.csv', sep=',')"
      ],
      "metadata": {
        "id": "uqVXtPKdWDv6"
      },
      "execution_count": 71,
      "outputs": []
    },
    {
      "cell_type": "code",
      "source": [
        "df = df_all[(df_all['season'] > 2000) & (df_all['season'] < 2017)]"
      ],
      "metadata": {
        "id": "5ABFyGTnWESi"
      },
      "execution_count": 100,
      "outputs": []
    },
    {
      "cell_type": "code",
      "source": [
        "df.isna().sum()"
      ],
      "metadata": {
        "colab": {
          "base_uri": "https://localhost:8080/"
        },
        "id": "7m_CHnscYoeK",
        "outputId": "1fdcc060-f68e-4b0b-8639-882dc52e8a02"
      },
      "execution_count": 73,
      "outputs": [
        {
          "output_type": "execute_result",
          "data": {
            "text/plain": [
              "id               0\n",
              "link             0\n",
              "date             0\n",
              "season           0\n",
              "pts_visitor      0\n",
              "pts_home         0\n",
              "id_visitor       0\n",
              "id_home          0\n",
              "ELO_visitor      0\n",
              "ELO_home         1\n",
              "t1p0_per         0\n",
              "t1p1_per         0\n",
              "t1p2_per         0\n",
              "t1p3_per         2\n",
              "t1p4_per        15\n",
              "t1p5_per        48\n",
              "t1p6_per        97\n",
              "t1p7_per       239\n",
              "t2p0_per         2\n",
              "t2p1_per         2\n",
              "t2p2_per         5\n",
              "t2p3_per         9\n",
              "t2p4_per        22\n",
              "t2p5_per        46\n",
              "t2p6_per       101\n",
              "t2p7_per       277\n",
              "visitor_b2b      0\n",
              "home_b2b         0\n",
              "Y                0\n",
              "dtype: int64"
            ]
          },
          "metadata": {},
          "execution_count": 73
        }
      ]
    },
    {
      "cell_type": "code",
      "source": [
        "df = df[df[['ELO_home', 't1p3_per', 't1p4_per', 't1p5_per', 't1p6_per', 't1p7_per', 't2p0_per', 't2p1_per', 't2p2_per', 't2p3_per', 't2p4_per', 't2p5_per', 't2p6_per', 't2p7_per']].notnull().all(1)]"
      ],
      "metadata": {
        "id": "-oaJFGFUWEU3"
      },
      "execution_count": 74,
      "outputs": []
    },
    {
      "cell_type": "code",
      "source": [
        "df.isna().sum()"
      ],
      "metadata": {
        "colab": {
          "base_uri": "https://localhost:8080/"
        },
        "id": "xuCR1dDDXjWa",
        "outputId": "57e145ed-638f-4915-ac46-e1bddc47d17b"
      },
      "execution_count": 75,
      "outputs": [
        {
          "output_type": "execute_result",
          "data": {
            "text/plain": [
              "id             0\n",
              "link           0\n",
              "date           0\n",
              "season         0\n",
              "pts_visitor    0\n",
              "pts_home       0\n",
              "id_visitor     0\n",
              "id_home        0\n",
              "ELO_visitor    0\n",
              "ELO_home       0\n",
              "t1p0_per       0\n",
              "t1p1_per       0\n",
              "t1p2_per       0\n",
              "t1p3_per       0\n",
              "t1p4_per       0\n",
              "t1p5_per       0\n",
              "t1p6_per       0\n",
              "t1p7_per       0\n",
              "t2p0_per       0\n",
              "t2p1_per       0\n",
              "t2p2_per       0\n",
              "t2p3_per       0\n",
              "t2p4_per       0\n",
              "t2p5_per       0\n",
              "t2p6_per       0\n",
              "t2p7_per       0\n",
              "visitor_b2b    0\n",
              "home_b2b       0\n",
              "Y              0\n",
              "dtype: int64"
            ]
          },
          "metadata": {},
          "execution_count": 75
        }
      ]
    },
    {
      "cell_type": "code",
      "source": [
        "df = df.loc[:, 'ELO_visitor':]\n",
        "df.info()"
      ],
      "metadata": {
        "colab": {
          "base_uri": "https://localhost:8080/"
        },
        "id": "Iz6gAXMsafrd",
        "outputId": "da536ae2-c02e-4fc6-d0bb-e98c24a183b9"
      },
      "execution_count": 76,
      "outputs": [
        {
          "output_type": "stream",
          "name": "stdout",
          "text": [
            "<class 'pandas.core.frame.DataFrame'>\n",
            "Int64Index: 20157 entries, 11743 to 32332\n",
            "Data columns (total 21 columns):\n",
            " #   Column       Non-Null Count  Dtype  \n",
            "---  ------       --------------  -----  \n",
            " 0   ELO_visitor  20157 non-null  float64\n",
            " 1   ELO_home     20157 non-null  float64\n",
            " 2   t1p0_per     20157 non-null  float64\n",
            " 3   t1p1_per     20157 non-null  float64\n",
            " 4   t1p2_per     20157 non-null  float64\n",
            " 5   t1p3_per     20157 non-null  float64\n",
            " 6   t1p4_per     20157 non-null  float64\n",
            " 7   t1p5_per     20157 non-null  float64\n",
            " 8   t1p6_per     20157 non-null  float64\n",
            " 9   t1p7_per     20157 non-null  float64\n",
            " 10  t2p0_per     20157 non-null  float64\n",
            " 11  t2p1_per     20157 non-null  float64\n",
            " 12  t2p2_per     20157 non-null  float64\n",
            " 13  t2p3_per     20157 non-null  float64\n",
            " 14  t2p4_per     20157 non-null  float64\n",
            " 15  t2p5_per     20157 non-null  float64\n",
            " 16  t2p6_per     20157 non-null  float64\n",
            " 17  t2p7_per     20157 non-null  float64\n",
            " 18  visitor_b2b  20157 non-null  int64  \n",
            " 19  home_b2b     20157 non-null  int64  \n",
            " 20  Y            20157 non-null  int64  \n",
            "dtypes: float64(18), int64(3)\n",
            "memory usage: 3.4 MB\n"
          ]
        }
      ]
    },
    {
      "cell_type": "code",
      "source": [
        "train_df, test_df = train_test_split(df, test_size=2000)"
      ],
      "metadata": {
        "id": "-cohTSpfaf44"
      },
      "execution_count": 77,
      "outputs": []
    },
    {
      "cell_type": "code",
      "source": [
        "train_df.head(3)"
      ],
      "metadata": {
        "colab": {
          "base_uri": "https://localhost:8080/",
          "height": 237
        },
        "id": "uChoEQ8VafcN",
        "outputId": "938286c7-dc83-4fbc-fdf2-fb4f8734dfcf"
      },
      "execution_count": 78,
      "outputs": [
        {
          "output_type": "execute_result",
          "data": {
            "text/plain": [
              "       ELO_visitor  ELO_home  t1p0_per  t1p1_per  t1p2_per  t1p3_per  \\\n",
              "16466       -0.012     0.215     0.697     0.614     0.503     0.464   \n",
              "19920        0.194     0.268     0.806     0.525     0.394     0.373   \n",
              "21199       -0.536    -0.181     0.721     0.539     0.533     0.423   \n",
              "\n",
              "       t1p4_per  t1p5_per  t1p6_per  t1p7_per  ...  t2p1_per  t2p2_per  \\\n",
              "16466     0.411     0.174     0.166     0.079  ...     0.648     0.350   \n",
              "19920     0.314     0.299     0.265     0.247  ...     0.472     0.390   \n",
              "21199     0.233     0.232     0.219     0.078  ...     0.347     0.329   \n",
              "\n",
              "       t2p3_per  t2p4_per  t2p5_per  t2p6_per  t2p7_per  visitor_b2b  \\\n",
              "16466     0.343     0.333     0.289     0.234     0.214            1   \n",
              "19920     0.317     0.313     0.296     0.249     0.162            0   \n",
              "21199     0.260     0.206     0.202     0.180     0.177            0   \n",
              "\n",
              "       home_b2b  Y  \n",
              "16466         0  0  \n",
              "19920         0  0  \n",
              "21199         0  0  \n",
              "\n",
              "[3 rows x 21 columns]"
            ],
            "text/html": [
              "\n",
              "  <div id=\"df-03bf5fea-4753-451b-9384-aebbe99c81b0\">\n",
              "    <div class=\"colab-df-container\">\n",
              "      <div>\n",
              "<style scoped>\n",
              "    .dataframe tbody tr th:only-of-type {\n",
              "        vertical-align: middle;\n",
              "    }\n",
              "\n",
              "    .dataframe tbody tr th {\n",
              "        vertical-align: top;\n",
              "    }\n",
              "\n",
              "    .dataframe thead th {\n",
              "        text-align: right;\n",
              "    }\n",
              "</style>\n",
              "<table border=\"1\" class=\"dataframe\">\n",
              "  <thead>\n",
              "    <tr style=\"text-align: right;\">\n",
              "      <th></th>\n",
              "      <th>ELO_visitor</th>\n",
              "      <th>ELO_home</th>\n",
              "      <th>t1p0_per</th>\n",
              "      <th>t1p1_per</th>\n",
              "      <th>t1p2_per</th>\n",
              "      <th>t1p3_per</th>\n",
              "      <th>t1p4_per</th>\n",
              "      <th>t1p5_per</th>\n",
              "      <th>t1p6_per</th>\n",
              "      <th>t1p7_per</th>\n",
              "      <th>...</th>\n",
              "      <th>t2p1_per</th>\n",
              "      <th>t2p2_per</th>\n",
              "      <th>t2p3_per</th>\n",
              "      <th>t2p4_per</th>\n",
              "      <th>t2p5_per</th>\n",
              "      <th>t2p6_per</th>\n",
              "      <th>t2p7_per</th>\n",
              "      <th>visitor_b2b</th>\n",
              "      <th>home_b2b</th>\n",
              "      <th>Y</th>\n",
              "    </tr>\n",
              "  </thead>\n",
              "  <tbody>\n",
              "    <tr>\n",
              "      <th>16466</th>\n",
              "      <td>-0.012</td>\n",
              "      <td>0.215</td>\n",
              "      <td>0.697</td>\n",
              "      <td>0.614</td>\n",
              "      <td>0.503</td>\n",
              "      <td>0.464</td>\n",
              "      <td>0.411</td>\n",
              "      <td>0.174</td>\n",
              "      <td>0.166</td>\n",
              "      <td>0.079</td>\n",
              "      <td>...</td>\n",
              "      <td>0.648</td>\n",
              "      <td>0.350</td>\n",
              "      <td>0.343</td>\n",
              "      <td>0.333</td>\n",
              "      <td>0.289</td>\n",
              "      <td>0.234</td>\n",
              "      <td>0.214</td>\n",
              "      <td>1</td>\n",
              "      <td>0</td>\n",
              "      <td>0</td>\n",
              "    </tr>\n",
              "    <tr>\n",
              "      <th>19920</th>\n",
              "      <td>0.194</td>\n",
              "      <td>0.268</td>\n",
              "      <td>0.806</td>\n",
              "      <td>0.525</td>\n",
              "      <td>0.394</td>\n",
              "      <td>0.373</td>\n",
              "      <td>0.314</td>\n",
              "      <td>0.299</td>\n",
              "      <td>0.265</td>\n",
              "      <td>0.247</td>\n",
              "      <td>...</td>\n",
              "      <td>0.472</td>\n",
              "      <td>0.390</td>\n",
              "      <td>0.317</td>\n",
              "      <td>0.313</td>\n",
              "      <td>0.296</td>\n",
              "      <td>0.249</td>\n",
              "      <td>0.162</td>\n",
              "      <td>0</td>\n",
              "      <td>0</td>\n",
              "      <td>0</td>\n",
              "    </tr>\n",
              "    <tr>\n",
              "      <th>21199</th>\n",
              "      <td>-0.536</td>\n",
              "      <td>-0.181</td>\n",
              "      <td>0.721</td>\n",
              "      <td>0.539</td>\n",
              "      <td>0.533</td>\n",
              "      <td>0.423</td>\n",
              "      <td>0.233</td>\n",
              "      <td>0.232</td>\n",
              "      <td>0.219</td>\n",
              "      <td>0.078</td>\n",
              "      <td>...</td>\n",
              "      <td>0.347</td>\n",
              "      <td>0.329</td>\n",
              "      <td>0.260</td>\n",
              "      <td>0.206</td>\n",
              "      <td>0.202</td>\n",
              "      <td>0.180</td>\n",
              "      <td>0.177</td>\n",
              "      <td>0</td>\n",
              "      <td>0</td>\n",
              "      <td>0</td>\n",
              "    </tr>\n",
              "  </tbody>\n",
              "</table>\n",
              "<p>3 rows × 21 columns</p>\n",
              "</div>\n",
              "      <button class=\"colab-df-convert\" onclick=\"convertToInteractive('df-03bf5fea-4753-451b-9384-aebbe99c81b0')\"\n",
              "              title=\"Convert this dataframe to an interactive table.\"\n",
              "              style=\"display:none;\">\n",
              "        \n",
              "  <svg xmlns=\"http://www.w3.org/2000/svg\" height=\"24px\"viewBox=\"0 0 24 24\"\n",
              "       width=\"24px\">\n",
              "    <path d=\"M0 0h24v24H0V0z\" fill=\"none\"/>\n",
              "    <path d=\"M18.56 5.44l.94 2.06.94-2.06 2.06-.94-2.06-.94-.94-2.06-.94 2.06-2.06.94zm-11 1L8.5 8.5l.94-2.06 2.06-.94-2.06-.94L8.5 2.5l-.94 2.06-2.06.94zm10 10l.94 2.06.94-2.06 2.06-.94-2.06-.94-.94-2.06-.94 2.06-2.06.94z\"/><path d=\"M17.41 7.96l-1.37-1.37c-.4-.4-.92-.59-1.43-.59-.52 0-1.04.2-1.43.59L10.3 9.45l-7.72 7.72c-.78.78-.78 2.05 0 2.83L4 21.41c.39.39.9.59 1.41.59.51 0 1.02-.2 1.41-.59l7.78-7.78 2.81-2.81c.8-.78.8-2.07 0-2.86zM5.41 20L4 18.59l7.72-7.72 1.47 1.35L5.41 20z\"/>\n",
              "  </svg>\n",
              "      </button>\n",
              "      \n",
              "  <style>\n",
              "    .colab-df-container {\n",
              "      display:flex;\n",
              "      flex-wrap:wrap;\n",
              "      gap: 12px;\n",
              "    }\n",
              "\n",
              "    .colab-df-convert {\n",
              "      background-color: #E8F0FE;\n",
              "      border: none;\n",
              "      border-radius: 50%;\n",
              "      cursor: pointer;\n",
              "      display: none;\n",
              "      fill: #1967D2;\n",
              "      height: 32px;\n",
              "      padding: 0 0 0 0;\n",
              "      width: 32px;\n",
              "    }\n",
              "\n",
              "    .colab-df-convert:hover {\n",
              "      background-color: #E2EBFA;\n",
              "      box-shadow: 0px 1px 2px rgba(60, 64, 67, 0.3), 0px 1px 3px 1px rgba(60, 64, 67, 0.15);\n",
              "      fill: #174EA6;\n",
              "    }\n",
              "\n",
              "    [theme=dark] .colab-df-convert {\n",
              "      background-color: #3B4455;\n",
              "      fill: #D2E3FC;\n",
              "    }\n",
              "\n",
              "    [theme=dark] .colab-df-convert:hover {\n",
              "      background-color: #434B5C;\n",
              "      box-shadow: 0px 1px 3px 1px rgba(0, 0, 0, 0.15);\n",
              "      filter: drop-shadow(0px 1px 2px rgba(0, 0, 0, 0.3));\n",
              "      fill: #FFFFFF;\n",
              "    }\n",
              "  </style>\n",
              "\n",
              "      <script>\n",
              "        const buttonEl =\n",
              "          document.querySelector('#df-03bf5fea-4753-451b-9384-aebbe99c81b0 button.colab-df-convert');\n",
              "        buttonEl.style.display =\n",
              "          google.colab.kernel.accessAllowed ? 'block' : 'none';\n",
              "\n",
              "        async function convertToInteractive(key) {\n",
              "          const element = document.querySelector('#df-03bf5fea-4753-451b-9384-aebbe99c81b0');\n",
              "          const dataTable =\n",
              "            await google.colab.kernel.invokeFunction('convertToInteractive',\n",
              "                                                     [key], {});\n",
              "          if (!dataTable) return;\n",
              "\n",
              "          const docLinkHtml = 'Like what you see? Visit the ' +\n",
              "            '<a target=\"_blank\" href=https://colab.research.google.com/notebooks/data_table.ipynb>data table notebook</a>'\n",
              "            + ' to learn more about interactive tables.';\n",
              "          element.innerHTML = '';\n",
              "          dataTable['output_type'] = 'display_data';\n",
              "          await google.colab.output.renderOutput(dataTable, element);\n",
              "          const docLink = document.createElement('div');\n",
              "          docLink.innerHTML = docLinkHtml;\n",
              "          element.appendChild(docLink);\n",
              "        }\n",
              "      </script>\n",
              "    </div>\n",
              "  </div>\n",
              "  "
            ]
          },
          "metadata": {},
          "execution_count": 78
        }
      ]
    },
    {
      "cell_type": "code",
      "source": [
        "features = train_df.loc[:, 'ELO_visitor':'home_b2b']\n",
        "features.head(5)"
      ],
      "metadata": {
        "colab": {
          "base_uri": "https://localhost:8080/",
          "height": 270
        },
        "id": "GMv3mHjrdHvm",
        "outputId": "62a276ab-bf60-4b01-cdff-9b07727975c1"
      },
      "execution_count": 79,
      "outputs": [
        {
          "output_type": "execute_result",
          "data": {
            "text/plain": [
              "       ELO_visitor  ELO_home  t1p0_per  t1p1_per  t1p2_per  t1p3_per  \\\n",
              "16466       -0.012     0.215     0.697     0.614     0.503     0.464   \n",
              "19920        0.194     0.268     0.806     0.525     0.394     0.373   \n",
              "21199       -0.536    -0.181     0.721     0.539     0.533     0.423   \n",
              "14697       -0.270     0.056     0.732     0.676     0.507     0.461   \n",
              "19772        0.047     0.443     0.533     0.476     0.438     0.436   \n",
              "\n",
              "       t1p4_per  t1p5_per  t1p6_per  t1p7_per  t2p0_per  t2p1_per  t2p2_per  \\\n",
              "16466     0.411     0.174     0.166     0.079     1.000     0.648     0.350   \n",
              "19920     0.314     0.299     0.265     0.247     1.000     0.472     0.390   \n",
              "21199     0.233     0.232     0.219     0.078     0.419     0.347     0.329   \n",
              "14697     0.389     0.386     0.269     0.265     0.610     0.474     0.294   \n",
              "19772     0.434     0.273     0.251     0.196     0.595     0.588     0.545   \n",
              "\n",
              "       t2p3_per  t2p4_per  t2p5_per  t2p6_per  t2p7_per  visitor_b2b  home_b2b  \n",
              "16466     0.343     0.333     0.289     0.234     0.214            1         0  \n",
              "19920     0.317     0.313     0.296     0.249     0.162            0         0  \n",
              "21199     0.260     0.206     0.202     0.180     0.177            0         0  \n",
              "14697     0.283     0.236     0.197     0.168     0.141            0         0  \n",
              "19772     0.544     0.436     0.360     0.269     0.139            1         0  "
            ],
            "text/html": [
              "\n",
              "  <div id=\"df-abc40990-7abc-442a-8ad2-60c98bb091a6\">\n",
              "    <div class=\"colab-df-container\">\n",
              "      <div>\n",
              "<style scoped>\n",
              "    .dataframe tbody tr th:only-of-type {\n",
              "        vertical-align: middle;\n",
              "    }\n",
              "\n",
              "    .dataframe tbody tr th {\n",
              "        vertical-align: top;\n",
              "    }\n",
              "\n",
              "    .dataframe thead th {\n",
              "        text-align: right;\n",
              "    }\n",
              "</style>\n",
              "<table border=\"1\" class=\"dataframe\">\n",
              "  <thead>\n",
              "    <tr style=\"text-align: right;\">\n",
              "      <th></th>\n",
              "      <th>ELO_visitor</th>\n",
              "      <th>ELO_home</th>\n",
              "      <th>t1p0_per</th>\n",
              "      <th>t1p1_per</th>\n",
              "      <th>t1p2_per</th>\n",
              "      <th>t1p3_per</th>\n",
              "      <th>t1p4_per</th>\n",
              "      <th>t1p5_per</th>\n",
              "      <th>t1p6_per</th>\n",
              "      <th>t1p7_per</th>\n",
              "      <th>t2p0_per</th>\n",
              "      <th>t2p1_per</th>\n",
              "      <th>t2p2_per</th>\n",
              "      <th>t2p3_per</th>\n",
              "      <th>t2p4_per</th>\n",
              "      <th>t2p5_per</th>\n",
              "      <th>t2p6_per</th>\n",
              "      <th>t2p7_per</th>\n",
              "      <th>visitor_b2b</th>\n",
              "      <th>home_b2b</th>\n",
              "    </tr>\n",
              "  </thead>\n",
              "  <tbody>\n",
              "    <tr>\n",
              "      <th>16466</th>\n",
              "      <td>-0.012</td>\n",
              "      <td>0.215</td>\n",
              "      <td>0.697</td>\n",
              "      <td>0.614</td>\n",
              "      <td>0.503</td>\n",
              "      <td>0.464</td>\n",
              "      <td>0.411</td>\n",
              "      <td>0.174</td>\n",
              "      <td>0.166</td>\n",
              "      <td>0.079</td>\n",
              "      <td>1.000</td>\n",
              "      <td>0.648</td>\n",
              "      <td>0.350</td>\n",
              "      <td>0.343</td>\n",
              "      <td>0.333</td>\n",
              "      <td>0.289</td>\n",
              "      <td>0.234</td>\n",
              "      <td>0.214</td>\n",
              "      <td>1</td>\n",
              "      <td>0</td>\n",
              "    </tr>\n",
              "    <tr>\n",
              "      <th>19920</th>\n",
              "      <td>0.194</td>\n",
              "      <td>0.268</td>\n",
              "      <td>0.806</td>\n",
              "      <td>0.525</td>\n",
              "      <td>0.394</td>\n",
              "      <td>0.373</td>\n",
              "      <td>0.314</td>\n",
              "      <td>0.299</td>\n",
              "      <td>0.265</td>\n",
              "      <td>0.247</td>\n",
              "      <td>1.000</td>\n",
              "      <td>0.472</td>\n",
              "      <td>0.390</td>\n",
              "      <td>0.317</td>\n",
              "      <td>0.313</td>\n",
              "      <td>0.296</td>\n",
              "      <td>0.249</td>\n",
              "      <td>0.162</td>\n",
              "      <td>0</td>\n",
              "      <td>0</td>\n",
              "    </tr>\n",
              "    <tr>\n",
              "      <th>21199</th>\n",
              "      <td>-0.536</td>\n",
              "      <td>-0.181</td>\n",
              "      <td>0.721</td>\n",
              "      <td>0.539</td>\n",
              "      <td>0.533</td>\n",
              "      <td>0.423</td>\n",
              "      <td>0.233</td>\n",
              "      <td>0.232</td>\n",
              "      <td>0.219</td>\n",
              "      <td>0.078</td>\n",
              "      <td>0.419</td>\n",
              "      <td>0.347</td>\n",
              "      <td>0.329</td>\n",
              "      <td>0.260</td>\n",
              "      <td>0.206</td>\n",
              "      <td>0.202</td>\n",
              "      <td>0.180</td>\n",
              "      <td>0.177</td>\n",
              "      <td>0</td>\n",
              "      <td>0</td>\n",
              "    </tr>\n",
              "    <tr>\n",
              "      <th>14697</th>\n",
              "      <td>-0.270</td>\n",
              "      <td>0.056</td>\n",
              "      <td>0.732</td>\n",
              "      <td>0.676</td>\n",
              "      <td>0.507</td>\n",
              "      <td>0.461</td>\n",
              "      <td>0.389</td>\n",
              "      <td>0.386</td>\n",
              "      <td>0.269</td>\n",
              "      <td>0.265</td>\n",
              "      <td>0.610</td>\n",
              "      <td>0.474</td>\n",
              "      <td>0.294</td>\n",
              "      <td>0.283</td>\n",
              "      <td>0.236</td>\n",
              "      <td>0.197</td>\n",
              "      <td>0.168</td>\n",
              "      <td>0.141</td>\n",
              "      <td>0</td>\n",
              "      <td>0</td>\n",
              "    </tr>\n",
              "    <tr>\n",
              "      <th>19772</th>\n",
              "      <td>0.047</td>\n",
              "      <td>0.443</td>\n",
              "      <td>0.533</td>\n",
              "      <td>0.476</td>\n",
              "      <td>0.438</td>\n",
              "      <td>0.436</td>\n",
              "      <td>0.434</td>\n",
              "      <td>0.273</td>\n",
              "      <td>0.251</td>\n",
              "      <td>0.196</td>\n",
              "      <td>0.595</td>\n",
              "      <td>0.588</td>\n",
              "      <td>0.545</td>\n",
              "      <td>0.544</td>\n",
              "      <td>0.436</td>\n",
              "      <td>0.360</td>\n",
              "      <td>0.269</td>\n",
              "      <td>0.139</td>\n",
              "      <td>1</td>\n",
              "      <td>0</td>\n",
              "    </tr>\n",
              "  </tbody>\n",
              "</table>\n",
              "</div>\n",
              "      <button class=\"colab-df-convert\" onclick=\"convertToInteractive('df-abc40990-7abc-442a-8ad2-60c98bb091a6')\"\n",
              "              title=\"Convert this dataframe to an interactive table.\"\n",
              "              style=\"display:none;\">\n",
              "        \n",
              "  <svg xmlns=\"http://www.w3.org/2000/svg\" height=\"24px\"viewBox=\"0 0 24 24\"\n",
              "       width=\"24px\">\n",
              "    <path d=\"M0 0h24v24H0V0z\" fill=\"none\"/>\n",
              "    <path d=\"M18.56 5.44l.94 2.06.94-2.06 2.06-.94-2.06-.94-.94-2.06-.94 2.06-2.06.94zm-11 1L8.5 8.5l.94-2.06 2.06-.94-2.06-.94L8.5 2.5l-.94 2.06-2.06.94zm10 10l.94 2.06.94-2.06 2.06-.94-2.06-.94-.94-2.06-.94 2.06-2.06.94z\"/><path d=\"M17.41 7.96l-1.37-1.37c-.4-.4-.92-.59-1.43-.59-.52 0-1.04.2-1.43.59L10.3 9.45l-7.72 7.72c-.78.78-.78 2.05 0 2.83L4 21.41c.39.39.9.59 1.41.59.51 0 1.02-.2 1.41-.59l7.78-7.78 2.81-2.81c.8-.78.8-2.07 0-2.86zM5.41 20L4 18.59l7.72-7.72 1.47 1.35L5.41 20z\"/>\n",
              "  </svg>\n",
              "      </button>\n",
              "      \n",
              "  <style>\n",
              "    .colab-df-container {\n",
              "      display:flex;\n",
              "      flex-wrap:wrap;\n",
              "      gap: 12px;\n",
              "    }\n",
              "\n",
              "    .colab-df-convert {\n",
              "      background-color: #E8F0FE;\n",
              "      border: none;\n",
              "      border-radius: 50%;\n",
              "      cursor: pointer;\n",
              "      display: none;\n",
              "      fill: #1967D2;\n",
              "      height: 32px;\n",
              "      padding: 0 0 0 0;\n",
              "      width: 32px;\n",
              "    }\n",
              "\n",
              "    .colab-df-convert:hover {\n",
              "      background-color: #E2EBFA;\n",
              "      box-shadow: 0px 1px 2px rgba(60, 64, 67, 0.3), 0px 1px 3px 1px rgba(60, 64, 67, 0.15);\n",
              "      fill: #174EA6;\n",
              "    }\n",
              "\n",
              "    [theme=dark] .colab-df-convert {\n",
              "      background-color: #3B4455;\n",
              "      fill: #D2E3FC;\n",
              "    }\n",
              "\n",
              "    [theme=dark] .colab-df-convert:hover {\n",
              "      background-color: #434B5C;\n",
              "      box-shadow: 0px 1px 3px 1px rgba(0, 0, 0, 0.15);\n",
              "      filter: drop-shadow(0px 1px 2px rgba(0, 0, 0, 0.3));\n",
              "      fill: #FFFFFF;\n",
              "    }\n",
              "  </style>\n",
              "\n",
              "      <script>\n",
              "        const buttonEl =\n",
              "          document.querySelector('#df-abc40990-7abc-442a-8ad2-60c98bb091a6 button.colab-df-convert');\n",
              "        buttonEl.style.display =\n",
              "          google.colab.kernel.accessAllowed ? 'block' : 'none';\n",
              "\n",
              "        async function convertToInteractive(key) {\n",
              "          const element = document.querySelector('#df-abc40990-7abc-442a-8ad2-60c98bb091a6');\n",
              "          const dataTable =\n",
              "            await google.colab.kernel.invokeFunction('convertToInteractive',\n",
              "                                                     [key], {});\n",
              "          if (!dataTable) return;\n",
              "\n",
              "          const docLinkHtml = 'Like what you see? Visit the ' +\n",
              "            '<a target=\"_blank\" href=https://colab.research.google.com/notebooks/data_table.ipynb>data table notebook</a>'\n",
              "            + ' to learn more about interactive tables.';\n",
              "          element.innerHTML = '';\n",
              "          dataTable['output_type'] = 'display_data';\n",
              "          await google.colab.output.renderOutput(dataTable, element);\n",
              "          const docLink = document.createElement('div');\n",
              "          docLink.innerHTML = docLinkHtml;\n",
              "          element.appendChild(docLink);\n",
              "        }\n",
              "      </script>\n",
              "    </div>\n",
              "  </div>\n",
              "  "
            ]
          },
          "metadata": {},
          "execution_count": 79
        }
      ]
    },
    {
      "cell_type": "code",
      "source": [
        "Y = train_df.loc[:, 'Y']\n",
        "Y.head(5)"
      ],
      "metadata": {
        "colab": {
          "base_uri": "https://localhost:8080/"
        },
        "id": "5PLILtCTdsGX",
        "outputId": "d1419556-a158-4beb-a601-87f14b7d1205"
      },
      "execution_count": 80,
      "outputs": [
        {
          "output_type": "execute_result",
          "data": {
            "text/plain": [
              "16466    0\n",
              "19920    0\n",
              "21199    0\n",
              "14697    0\n",
              "19772    0\n",
              "Name: Y, dtype: int64"
            ]
          },
          "metadata": {},
          "execution_count": 80
        }
      ]
    },
    {
      "cell_type": "code",
      "source": [
        "model = LogisticRegression(random_state=0)\n",
        "model.fit(features, Y)"
      ],
      "metadata": {
        "colab": {
          "base_uri": "https://localhost:8080/"
        },
        "id": "Rljbw3hUZQZ6",
        "outputId": "2aba424d-1b44-4cdf-fe81-6dedb6c31445"
      },
      "execution_count": 81,
      "outputs": [
        {
          "output_type": "execute_result",
          "data": {
            "text/plain": [
              "LogisticRegression(random_state=0)"
            ]
          },
          "metadata": {},
          "execution_count": 81
        }
      ]
    },
    {
      "cell_type": "code",
      "source": [
        "test_features = test_df.loc[:, 'ELO_visitor':'home_b2b']\n",
        "result = test_df.loc[:, 'Y']\n",
        "model.predict(test_features[0:10]), result[0:10]"
      ],
      "metadata": {
        "colab": {
          "base_uri": "https://localhost:8080/"
        },
        "id": "fGP9ap3mdHfr",
        "outputId": "5c9f1464-98e0-4484-c414-f72f5c2f953d"
      },
      "execution_count": 82,
      "outputs": [
        {
          "output_type": "execute_result",
          "data": {
            "text/plain": [
              "(array([0, 0, 0, 0, 0, 1, 0, 0, 0, 0]), 21490    0\n",
              " 32285    1\n",
              " 20103    0\n",
              " 12076    1\n",
              " 18378    1\n",
              " 18764    0\n",
              " 17297    0\n",
              " 14450    0\n",
              " 23070    0\n",
              " 29792    1\n",
              " Name: Y, dtype: int64)"
            ]
          },
          "metadata": {},
          "execution_count": 82
        }
      ]
    },
    {
      "cell_type": "code",
      "source": [
        "model_pipeline = Pipeline(\n",
        "    [\n",
        "        ('model', LogisticRegression(random_state=0))\n",
        "    ]\n",
        ")"
      ],
      "metadata": {
        "id": "IRKFc7PqdHPl"
      },
      "execution_count": 83,
      "outputs": []
    },
    {
      "cell_type": "code",
      "source": [
        "model_pipeline.fit(features, Y)"
      ],
      "metadata": {
        "colab": {
          "base_uri": "https://localhost:8080/"
        },
        "id": "KQpt9itLevnh",
        "outputId": "2ec98efb-ccc7-4bfc-a60d-96e61723a0a1"
      },
      "execution_count": 84,
      "outputs": [
        {
          "output_type": "execute_result",
          "data": {
            "text/plain": [
              "Pipeline(steps=[('model', LogisticRegression(random_state=0))])"
            ]
          },
          "metadata": {},
          "execution_count": 84
        }
      ]
    },
    {
      "cell_type": "code",
      "source": [
        "precision_score(y_true=result, y_pred=model_pipeline.predict(test_features))"
      ],
      "metadata": {
        "colab": {
          "base_uri": "https://localhost:8080/"
        },
        "id": "ryzXmFqGevp1",
        "outputId": "3358c574-30d8-47f5-b64a-3a0a0c8f1bed"
      },
      "execution_count": 85,
      "outputs": [
        {
          "output_type": "execute_result",
          "data": {
            "text/plain": [
              "0.6371681415929203"
            ]
          },
          "metadata": {},
          "execution_count": 85
        }
      ]
    },
    {
      "cell_type": "code",
      "source": [
        "recall_score(y_true=result, y_pred=model_pipeline.predict(test_features))"
      ],
      "metadata": {
        "colab": {
          "base_uri": "https://localhost:8080/"
        },
        "id": "C5tnh7uSevsM",
        "outputId": "045844b4-2f59-4c57-96c4-bb5a89d05e29"
      },
      "execution_count": 86,
      "outputs": [
        {
          "output_type": "execute_result",
          "data": {
            "text/plain": [
              "0.44776119402985076"
            ]
          },
          "metadata": {},
          "execution_count": 86
        }
      ]
    },
    {
      "cell_type": "code",
      "source": [
        "prec, rec, thresholds = precision_recall_curve(y_true=result, probas_pred=model_pipeline.predict_proba(test_features)[:, 1])"
      ],
      "metadata": {
        "id": "pWidMkz4evuh"
      },
      "execution_count": 87,
      "outputs": []
    },
    {
      "cell_type": "code",
      "source": [
        "plot_precision_recall_curve(estimator=model_pipeline, X=test_features, y=result)"
      ],
      "metadata": {
        "colab": {
          "base_uri": "https://localhost:8080/",
          "height": 353
        },
        "id": "GK0im2OyfTtd",
        "outputId": "0ea2dff5-8a10-4b60-bbff-18e88292388b"
      },
      "execution_count": 88,
      "outputs": [
        {
          "output_type": "stream",
          "name": "stderr",
          "text": [
            "/usr/local/lib/python3.7/dist-packages/sklearn/utils/deprecation.py:87: FutureWarning: Function plot_precision_recall_curve is deprecated; Function `plot_precision_recall_curve` is deprecated in 1.0 and will be removed in 1.2. Use one of the class methods: PrecisionRecallDisplay.from_predictions or PrecisionRecallDisplay.from_estimator.\n",
            "  warnings.warn(msg, category=FutureWarning)\n"
          ]
        },
        {
          "output_type": "execute_result",
          "data": {
            "text/plain": [
              "<sklearn.metrics._plot.precision_recall_curve.PrecisionRecallDisplay at 0x7f94e0408cd0>"
            ]
          },
          "metadata": {},
          "execution_count": 88
        },
        {
          "output_type": "display_data",
          "data": {
            "text/plain": [
              "<Figure size 432x288 with 1 Axes>"
            ],
            "image/png": "[encoded data removed]"
          },
          "metadata": {
            "needs_background": "light"
          }
        }
      ]
    },
    {
      "cell_type": "code",
      "source": [
        "np.where(prec > 0.75)"
      ],
      "metadata": {
        "colab": {
          "base_uri": "https://localhost:8080/"
        },
        "id": "urVE_xn2fTvx",
        "outputId": "bdef02c7-ad92-43d7-b1ee-0e785f599f08"
      },
      "execution_count": 89,
      "outputs": [
        {
          "output_type": "execute_result",
          "data": {
            "text/plain": [
              "(array([1776, 1777, 1778, 1779, 1780, 1781, 1782, 1783, 1784, 1785, 1786,\n",
              "        1787, 1788, 1789, 1790, 1791, 1792, 1793, 1794, 1795, 1796, 1797,\n",
              "        1798, 1799, 1800, 1801, 1802, 1803, 1804, 1805, 1806, 1807, 1808,\n",
              "        1809, 1810, 1811, 1812, 1813, 1814, 1815, 1816, 1817, 1818, 1819,\n",
              "        1820, 1821, 1822, 1823, 1824, 1825, 1826, 1827, 1828, 1829, 1830,\n",
              "        1831, 1832, 1833, 1834, 1835, 1836, 1837, 1838, 1839, 1840, 1841,\n",
              "        1842, 1843, 1844, 1845, 1846, 1847, 1848, 1849, 1850, 1851, 1852,\n",
              "        1853, 1854, 1855, 1856, 1857, 1858, 1859, 1860, 1861, 1862, 1863,\n",
              "        1864, 1865, 1866, 1867, 1868, 1869, 1870, 1871, 1872, 1873, 1874,\n",
              "        1875, 1876, 1877, 1878, 1879, 1880, 1881, 1882, 1883, 1884, 1885,\n",
              "        1886, 1887, 1888, 1889, 1890, 1891, 1892, 1893, 1894, 1895, 1896,\n",
              "        1897, 1898, 1899, 1900, 1901, 1902, 1903, 1904, 1905, 1906, 1907,\n",
              "        1908, 1909, 1910, 1911, 1912, 1913, 1914, 1915, 1916, 1917, 1918,\n",
              "        1919, 1920, 1921, 1922, 1923, 1924, 1925, 1926, 1927, 1928, 1929,\n",
              "        1930, 1931, 1932, 1933, 1934, 1935, 1936, 1937, 1938, 1939, 1940,\n",
              "        1941, 1942, 1943, 1944, 1945, 1946, 1947, 1948, 1949, 1950, 1951,\n",
              "        1952, 1953, 1954, 1955, 1956, 1957, 1958, 1959, 1960, 1961, 1962,\n",
              "        1964, 1965, 1966, 1986, 1987]),)"
            ]
          },
          "metadata": {},
          "execution_count": 89
        }
      ]
    },
    {
      "cell_type": "code",
      "source": [
        "thresholds[1776]"
      ],
      "metadata": {
        "colab": {
          "base_uri": "https://localhost:8080/"
        },
        "id": "7oMhml1MfTx2",
        "outputId": "e3b879c4-cfe0-4917-8ff9-5a072ae58e46"
      },
      "execution_count": 90,
      "outputs": [
        {
          "output_type": "execute_result",
          "data": {
            "text/plain": [
              "0.6562599162507001"
            ]
          },
          "metadata": {},
          "execution_count": 90
        }
      ]
    },
    {
      "cell_type": "code",
      "source": [
        "precision_score(y_true=result, y_pred=model_pipeline.predict_proba(test_features)[:, 1] > thresholds[1776])"
      ],
      "metadata": {
        "colab": {
          "base_uri": "https://localhost:8080/"
        },
        "id": "vk9wb36_fTz9",
        "outputId": "68fb52f6-7273-4e5c-9884-28018d5d5d15"
      },
      "execution_count": 91,
      "outputs": [
        {
          "output_type": "execute_result",
          "data": {
            "text/plain": [
              "0.7571428571428571"
            ]
          },
          "metadata": {},
          "execution_count": 91
        }
      ]
    },
    {
      "cell_type": "code",
      "source": [
        "recall_score(y_true=result, y_pred=model_pipeline.predict_proba(test_features)[:, 1] > thresholds[1776])"
      ],
      "metadata": {
        "colab": {
          "base_uri": "https://localhost:8080/"
        },
        "id": "Wl-W2lMKgJbx",
        "outputId": "6a381a18-87e8-45ea-9657-38791ca42427"
      },
      "execution_count": 92,
      "outputs": [
        {
          "output_type": "execute_result",
          "data": {
            "text/plain": [
              "0.19776119402985073"
            ]
          },
          "metadata": {},
          "execution_count": 92
        }
      ]
    },
    {
      "cell_type": "code",
      "source": [
        "grid_pipeline = Pipeline(\n",
        "    [\n",
        "        ('model', \n",
        "          GridSearchCV(\n",
        "            LogisticRegression(random_state=0, max_iter=5000),\n",
        "            param_grid={'C': [0.1, 1, 10.]},\n",
        "            cv=3,\n",
        "            verbose=4\n",
        "            )\n",
        "        )\n",
        "    ]\n",
        ")"
      ],
      "metadata": {
        "id": "SJyQQuM5gJe4"
      },
      "execution_count": 95,
      "outputs": []
    },
    {
      "cell_type": "code",
      "source": [
        "grid_pipeline.fit(features, Y)"
      ],
      "metadata": {
        "colab": {
          "base_uri": "https://localhost:8080/"
        },
        "id": "fv4B-SCOgJg-",
        "outputId": "75b1b045-d96c-4abe-f13d-8a6d11d379f6"
      },
      "execution_count": 96,
      "outputs": [
        {
          "output_type": "stream",
          "name": "stdout",
          "text": [
            "Fitting 3 folds for each of 3 candidates, totalling 9 fits\n",
            "[CV 1/3] END .............................C=0.1;, score=0.678 total time=   0.1s\n",
            "[CV 2/3] END .............................C=0.1;, score=0.672 total time=   0.1s\n",
            "[CV 3/3] END .............................C=0.1;, score=0.677 total time=   0.1s\n",
            "[CV 1/3] END ...............................C=1;, score=0.675 total time=   0.2s\n",
            "[CV 2/3] END ...............................C=1;, score=0.670 total time=   0.2s\n",
            "[CV 3/3] END ...............................C=1;, score=0.676 total time=   0.2s\n",
            "[CV 1/3] END ............................C=10.0;, score=0.675 total time=   0.2s\n",
            "[CV 2/3] END ............................C=10.0;, score=0.669 total time=   0.3s\n",
            "[CV 3/3] END ............................C=10.0;, score=0.676 total time=   0.3s\n"
          ]
        },
        {
          "output_type": "execute_result",
          "data": {
            "text/plain": [
              "Pipeline(steps=[('model',\n",
              "                 GridSearchCV(cv=3,\n",
              "                              estimator=LogisticRegression(max_iter=5000,\n",
              "                                                           random_state=0),\n",
              "                              param_grid={'C': [0.1, 1, 10.0]}, verbose=4))])"
            ]
          },
          "metadata": {},
          "execution_count": 96
        }
      ]
    },
    {
      "cell_type": "code",
      "source": [
        "franchises = {1: 'Atlanta Hawks', 2: 'Boston Celtics', 3: 'Brooklyn Nets', 4: 'Charlotte Hornets', 5: 'Chicago Bulls', 6: 'Cleveland Cavaliers', 7: 'Dallas Mavericks', 8: 'Denver Nuggets', 9: 'Detroit Pistons', 10: 'Golden State Warriors', 11: 'Houston Rockets', 12: 'Indiana Pacers', 13: 'Los Angeles Clippers', 14: 'Los Angeles Lakers', 15: 'Memphis Grizzlies', 16: 'Miami Heat', 17: 'Milwaukee Bucks', 18: 'Minnesota Timberwolves', 19: 'New Orleans Pelicans', 20: 'New York Knicks', 21: 'Oklahoma City Thunder', 22: 'Orlando Magic', 23: 'Philadelphia 76ers', 24: 'Phoenix Suns', 25: 'Portland Trail Blazers', 26: 'Sacramento Kings', 27: 'San Antonio Spurs', 28: 'Toronto Raptors', 29: 'Utah Jazz', 30: 'Washington Wizards', 31: 'Anderson Packers', 32: 'Baltimore Bullets', 33: 'Chicago Stags', 34: 'Cleveland Rebels', 35: 'Denver Nuggets', 36: 'Detroit Falcons', 37: 'Indianapolis Jets', 38: 'Indianapolis Olympians', 39: 'Kentucky Colonels', 40: 'Memphis Sounds', 41: 'Pittsburgh Condors', 42: 'Pittsburgh Ironmen', 43: 'Providence Steam Rollers', 44: 'San Diego Sails', 45: 'Sheboygan Red Skins', 46: 'Spirits of St. Louis', 47: 'St. Louis Bombers', 48: 'The Floridians', 49: 'Toronto Huskies', 50: 'Utah Stars', 51: 'Virginia Squires', 52: 'Washington Capitols', 53: 'Waterloo Hawks'}\n",
        "def get_key(d, value):\n",
        "    for k, v in d.items():\n",
        "        if v == value:\n",
        "            return k"
      ],
      "metadata": {
        "id": "R_9rNLw1gJjU"
      },
      "execution_count": 137,
      "outputs": []
    },
    {
      "cell_type": "code",
      "source": [
        "odds = pd.read_csv('drive/MyDrive/Colab Notebooks/data/odds.csv', sep='\\t')"
      ],
      "metadata": {
        "id": "2hkF6PrzhUpa"
      },
      "execution_count": 114,
      "outputs": []
    },
    {
      "cell_type": "code",
      "source": [
        "df_validate = df_all[df_all['season'] > 2016]"
      ],
      "metadata": {
        "id": "INOt88TlhUr-"
      },
      "execution_count": 98,
      "outputs": []
    },
    {
      "cell_type": "code",
      "source": [
        "df_validate = df_validate[df_validate[['ELO_home', 't1p3_per', 't1p4_per', 't1p5_per', 't1p6_per', 't1p7_per', 't2p0_per', 't2p1_per', 't2p2_per', 't2p3_per', 't2p4_per', 't2p5_per', 't2p6_per', 't2p7_per']].notnull().all(1)]"
      ],
      "metadata": {
        "id": "ag4to0rbhUuT"
      },
      "execution_count": 102,
      "outputs": []
    },
    {
      "cell_type": "code",
      "source": [
        "df_validate_features = df_validate.loc[:, 'ELO_visitor':'home_b2b']\n",
        "df_validate_y = df_validate.loc[:, 'Y']\n",
        "df_validate_y.head(5)"
      ],
      "metadata": {
        "colab": {
          "base_uri": "https://localhost:8080/"
        },
        "id": "U6Zt6-uKhUw7",
        "outputId": "f536a36b-21f4-4d0c-a6e5-9e583f910e68"
      },
      "execution_count": 125,
      "outputs": [
        {
          "output_type": "execute_result",
          "data": {
            "text/plain": [
              "32344    1\n",
              "32348    1\n",
              "32349    1\n",
              "32350    1\n",
              "32351    0\n",
              "Name: Y, dtype: int64"
            ]
          },
          "metadata": {},
          "execution_count": 125
        }
      ]
    },
    {
      "cell_type": "code",
      "source": [
        "res = model_pipeline.predict_proba(df_validate_features)[:, 1] > thresholds[1776]\n",
        "res"
      ],
      "metadata": {
        "colab": {
          "base_uri": "https://localhost:8080/"
        },
        "id": "sc7s_VXEhUzQ",
        "outputId": "33421518-dc6b-4c97-c934-78777eadf50e"
      },
      "execution_count": 108,
      "outputs": [
        {
          "output_type": "execute_result",
          "data": {
            "text/plain": [
              "array([False, False,  True, ..., False, False, False])"
            ]
          },
          "metadata": {},
          "execution_count": 108
        }
      ]
    },
    {
      "cell_type": "code",
      "source": [
        "odds.head(10)"
      ],
      "metadata": {
        "colab": {
          "base_uri": "https://localhost:8080/",
          "height": 363
        },
        "id": "zXmfQuD5pY5I",
        "outputId": "ee9cfb26-1c5f-49ce-91da-299955b0e65a"
      },
      "execution_count": 115,
      "outputs": [
        {
          "output_type": "execute_result",
          "data": {
            "text/plain": [
              "   Unnamed: 0  season         date   time                   home  \\\n",
              "0           0    2017  12 Jun 2017  21:00  Golden State Warriors   \n",
              "1           1    2017  09 Jun 2017  21:00    Cleveland Cavaliers   \n",
              "2           2    2017  07 Jun 2017  21:00    Cleveland Cavaliers   \n",
              "3           3    2017  04 Jun 2017  20:00  Golden State Warriors   \n",
              "4           4    2017  01 Jun 2017  21:00  Golden State Warriors   \n",
              "5           5    2017  25 May 2017  20:30         Boston Celtics   \n",
              "6           6    2017  23 May 2017  20:30    Cleveland Cavaliers   \n",
              "7           7    2017  22 May 2017  21:00      San Antonio Spurs   \n",
              "8           8    2017  21 May 2017  20:30    Cleveland Cavaliers   \n",
              "9           9    2017  20 May 2017  21:00      San Antonio Spurs   \n",
              "\n",
              "                 visitor  home_score  visitor_score home_odd visitor_odd info  \n",
              "0    Cleveland Cavaliers       129.0          120.0     1.26        4.19  NaN  \n",
              "1  Golden State Warriors       137.0          116.0     2.67        1.52  NaN  \n",
              "2  Golden State Warriors       113.0          118.0     2.39        1.64  NaN  \n",
              "3    Cleveland Cavaliers       132.0          113.0     1.24        4.46  NaN  \n",
              "4    Cleveland Cavaliers       113.0           91.0     1.32        3.65  NaN  \n",
              "5    Cleveland Cavaliers       102.0          135.0     5.00        1.23  NaN  \n",
              "6         Boston Celtics       112.0           99.0     1.07       13.00  NaN  \n",
              "7  Golden State Warriors       115.0          129.0     6.05        1.18  NaN  \n",
              "8         Boston Celtics       108.0          111.0     1.05       17.00  NaN  \n",
              "9  Golden State Warriors       108.0          120.0     4.86        1.24  NaN  "
            ],
            "text/html": [
              "\n",
              "  <div id=\"df-24e39eb1-bd55-492e-9444-57384cda8080\">\n",
              "    <div class=\"colab-df-container\">\n",
              "      <div>\n",
              "<style scoped>\n",
              "    .dataframe tbody tr th:only-of-type {\n",
              "        vertical-align: middle;\n",
              "    }\n",
              "\n",
              "    .dataframe tbody tr th {\n",
              "        vertical-align: top;\n",
              "    }\n",
              "\n",
              "    .dataframe thead th {\n",
              "        text-align: right;\n",
              "    }\n",
              "</style>\n",
              "<table border=\"1\" class=\"dataframe\">\n",
              "  <thead>\n",
              "    <tr style=\"text-align: right;\">\n",
              "      <th></th>\n",
              "      <th>Unnamed: 0</th>\n",
              "      <th>season</th>\n",
              "      <th>date</th>\n",
              "      <th>time</th>\n",
              "      <th>home</th>\n",
              "      <th>visitor</th>\n",
              "      <th>home_score</th>\n",
              "      <th>visitor_score</th>\n",
              "      <th>home_odd</th>\n",
              "      <th>visitor_odd</th>\n",
              "      <th>info</th>\n",
              "    </tr>\n",
              "  </thead>\n",
              "  <tbody>\n",
              "    <tr>\n",
              "      <th>0</th>\n",
              "      <td>0</td>\n",
              "      <td>2017</td>\n",
              "      <td>12 Jun 2017</td>\n",
              "      <td>21:00</td>\n",
              "      <td>Golden State Warriors</td>\n",
              "      <td>Cleveland Cavaliers</td>\n",
              "      <td>129.0</td>\n",
              "      <td>120.0</td>\n",
              "      <td>1.26</td>\n",
              "      <td>4.19</td>\n",
              "      <td>NaN</td>\n",
              "    </tr>\n",
              "    <tr>\n",
              "      <th>1</th>\n",
              "      <td>1</td>\n",
              "      <td>2017</td>\n",
              "      <td>09 Jun 2017</td>\n",
              "      <td>21:00</td>\n",
              "      <td>Cleveland Cavaliers</td>\n",
              "      <td>Golden State Warriors</td>\n",
              "      <td>137.0</td>\n",
              "      <td>116.0</td>\n",
              "      <td>2.67</td>\n",
              "      <td>1.52</td>\n",
              "      <td>NaN</td>\n",
              "    </tr>\n",
              "    <tr>\n",
              "      <th>2</th>\n",
              "      <td>2</td>\n",
              "      <td>2017</td>\n",
              "      <td>07 Jun 2017</td>\n",
              "      <td>21:00</td>\n",
              "      <td>Cleveland Cavaliers</td>\n",
              "      <td>Golden State Warriors</td>\n",
              "      <td>113.0</td>\n",
              "      <td>118.0</td>\n",
              "      <td>2.39</td>\n",
              "      <td>1.64</td>\n",
              "      <td>NaN</td>\n",
              "    </tr>\n",
              "    <tr>\n",
              "      <th>3</th>\n",
              "      <td>3</td>\n",
              "      <td>2017</td>\n",
              "      <td>04 Jun 2017</td>\n",
              "      <td>20:00</td>\n",
              "      <td>Golden State Warriors</td>\n",
              "      <td>Cleveland Cavaliers</td>\n",
              "      <td>132.0</td>\n",
              "      <td>113.0</td>\n",
              "      <td>1.24</td>\n",
              "      <td>4.46</td>\n",
              "      <td>NaN</td>\n",
              "    </tr>\n",
              "    <tr>\n",
              "      <th>4</th>\n",
              "      <td>4</td>\n",
              "      <td>2017</td>\n",
              "      <td>01 Jun 2017</td>\n",
              "      <td>21:00</td>\n",
              "      <td>Golden State Warriors</td>\n",
              "      <td>Cleveland Cavaliers</td>\n",
              "      <td>113.0</td>\n",
              "      <td>91.0</td>\n",
              "      <td>1.32</td>\n",
              "      <td>3.65</td>\n",
              "      <td>NaN</td>\n",
              "    </tr>\n",
              "    <tr>\n",
              "      <th>5</th>\n",
              "      <td>5</td>\n",
              "      <td>2017</td>\n",
              "      <td>25 May 2017</td>\n",
              "      <td>20:30</td>\n",
              "      <td>Boston Celtics</td>\n",
              "      <td>Cleveland Cavaliers</td>\n",
              "      <td>102.0</td>\n",
              "      <td>135.0</td>\n",
              "      <td>5.00</td>\n",
              "      <td>1.23</td>\n",
              "      <td>NaN</td>\n",
              "    </tr>\n",
              "    <tr>\n",
              "      <th>6</th>\n",
              "      <td>6</td>\n",
              "      <td>2017</td>\n",
              "      <td>23 May 2017</td>\n",
              "      <td>20:30</td>\n",
              "      <td>Cleveland Cavaliers</td>\n",
              "      <td>Boston Celtics</td>\n",
              "      <td>112.0</td>\n",
              "      <td>99.0</td>\n",
              "      <td>1.07</td>\n",
              "      <td>13.00</td>\n",
              "      <td>NaN</td>\n",
              "    </tr>\n",
              "    <tr>\n",
              "      <th>7</th>\n",
              "      <td>7</td>\n",
              "      <td>2017</td>\n",
              "      <td>22 May 2017</td>\n",
              "      <td>21:00</td>\n",
              "      <td>San Antonio Spurs</td>\n",
              "      <td>Golden State Warriors</td>\n",
              "      <td>115.0</td>\n",
              "      <td>129.0</td>\n",
              "      <td>6.05</td>\n",
              "      <td>1.18</td>\n",
              "      <td>NaN</td>\n",
              "    </tr>\n",
              "    <tr>\n",
              "      <th>8</th>\n",
              "      <td>8</td>\n",
              "      <td>2017</td>\n",
              "      <td>21 May 2017</td>\n",
              "      <td>20:30</td>\n",
              "      <td>Cleveland Cavaliers</td>\n",
              "      <td>Boston Celtics</td>\n",
              "      <td>108.0</td>\n",
              "      <td>111.0</td>\n",
              "      <td>1.05</td>\n",
              "      <td>17.00</td>\n",
              "      <td>NaN</td>\n",
              "    </tr>\n",
              "    <tr>\n",
              "      <th>9</th>\n",
              "      <td>9</td>\n",
              "      <td>2017</td>\n",
              "      <td>20 May 2017</td>\n",
              "      <td>21:00</td>\n",
              "      <td>San Antonio Spurs</td>\n",
              "      <td>Golden State Warriors</td>\n",
              "      <td>108.0</td>\n",
              "      <td>120.0</td>\n",
              "      <td>4.86</td>\n",
              "      <td>1.24</td>\n",
              "      <td>NaN</td>\n",
              "    </tr>\n",
              "  </tbody>\n",
              "</table>\n",
              "</div>\n",
              "      <button class=\"colab-df-convert\" onclick=\"convertToInteractive('df-24e39eb1-bd55-492e-9444-57384cda8080')\"\n",
              "              title=\"Convert this dataframe to an interactive table.\"\n",
              "              style=\"display:none;\">\n",
              "        \n",
              "  <svg xmlns=\"http://www.w3.org/2000/svg\" height=\"24px\"viewBox=\"0 0 24 24\"\n",
              "       width=\"24px\">\n",
              "    <path d=\"M0 0h24v24H0V0z\" fill=\"none\"/>\n",
              "    <path d=\"M18.56 5.44l.94 2.06.94-2.06 2.06-.94-2.06-.94-.94-2.06-.94 2.06-2.06.94zm-11 1L8.5 8.5l.94-2.06 2.06-.94-2.06-.94L8.5 2.5l-.94 2.06-2.06.94zm10 10l.94 2.06.94-2.06 2.06-.94-2.06-.94-.94-2.06-.94 2.06-2.06.94z\"/><path d=\"M17.41 7.96l-1.37-1.37c-.4-.4-.92-.59-1.43-.59-.52 0-1.04.2-1.43.59L10.3 9.45l-7.72 7.72c-.78.78-.78 2.05 0 2.83L4 21.41c.39.39.9.59 1.41.59.51 0 1.02-.2 1.41-.59l7.78-7.78 2.81-2.81c.8-.78.8-2.07 0-2.86zM5.41 20L4 18.59l7.72-7.72 1.47 1.35L5.41 20z\"/>\n",
              "  </svg>\n",
              "      </button>\n",
              "      \n",
              "  <style>\n",
              "    .colab-df-container {\n",
              "      display:flex;\n",
              "      flex-wrap:wrap;\n",
              "      gap: 12px;\n",
              "    }\n",
              "\n",
              "    .colab-df-convert {\n",
              "      background-color: #E8F0FE;\n",
              "      border: none;\n",
              "      border-radius: 50%;\n",
              "      cursor: pointer;\n",
              "      display: none;\n",
              "      fill: #1967D2;\n",
              "      height: 32px;\n",
              "      padding: 0 0 0 0;\n",
              "      width: 32px;\n",
              "    }\n",
              "\n",
              "    .colab-df-convert:hover {\n",
              "      background-color: #E2EBFA;\n",
              "      box-shadow: 0px 1px 2px rgba(60, 64, 67, 0.3), 0px 1px 3px 1px rgba(60, 64, 67, 0.15);\n",
              "      fill: #174EA6;\n",
              "    }\n",
              "\n",
              "    [theme=dark] .colab-df-convert {\n",
              "      background-color: #3B4455;\n",
              "      fill: #D2E3FC;\n",
              "    }\n",
              "\n",
              "    [theme=dark] .colab-df-convert:hover {\n",
              "      background-color: #434B5C;\n",
              "      box-shadow: 0px 1px 3px 1px rgba(0, 0, 0, 0.15);\n",
              "      filter: drop-shadow(0px 1px 2px rgba(0, 0, 0, 0.3));\n",
              "      fill: #FFFFFF;\n",
              "    }\n",
              "  </style>\n",
              "\n",
              "      <script>\n",
              "        const buttonEl =\n",
              "          document.querySelector('#df-24e39eb1-bd55-492e-9444-57384cda8080 button.colab-df-convert');\n",
              "        buttonEl.style.display =\n",
              "          google.colab.kernel.accessAllowed ? 'block' : 'none';\n",
              "\n",
              "        async function convertToInteractive(key) {\n",
              "          const element = document.querySelector('#df-24e39eb1-bd55-492e-9444-57384cda8080');\n",
              "          const dataTable =\n",
              "            await google.colab.kernel.invokeFunction('convertToInteractive',\n",
              "                                                     [key], {});\n",
              "          if (!dataTable) return;\n",
              "\n",
              "          const docLinkHtml = 'Like what you see? Visit the ' +\n",
              "            '<a target=\"_blank\" href=https://colab.research.google.com/notebooks/data_table.ipynb>data table notebook</a>'\n",
              "            + ' to learn more about interactive tables.';\n",
              "          element.innerHTML = '';\n",
              "          dataTable['output_type'] = 'display_data';\n",
              "          await google.colab.output.renderOutput(dataTable, element);\n",
              "          const docLink = document.createElement('div');\n",
              "          docLink.innerHTML = docLinkHtml;\n",
              "          element.appendChild(docLink);\n",
              "        }\n",
              "      </script>\n",
              "    </div>\n",
              "  </div>\n",
              "  "
            ]
          },
          "metadata": {},
          "execution_count": 115
        }
      ]
    },
    {
      "cell_type": "code",
      "source": [
        "real_res = df_validate_y.tolist()\n",
        "bet_size = 100\n",
        "total_bet = 0\n",
        "total_win = 0\n",
        "\n",
        "step = []\n",
        "money = []\n",
        "current = 0\n",
        "# df_validate[(df_validate['id_visitor'] == 2) & (df_validate['id_home'] == 4)]\n",
        "for i, prediction in enumerate(res):\n",
        "  visitor_odd = odds.loc[i, 'visitor_odd']\n",
        "  home_odd = odds.loc[i, 'home_odd']\n",
        "  if home_odd == '-' or visitor_odd == '-':\n",
        "    continue\n",
        "\n",
        "  id_visitor = get_key(franchises, odds.loc[i, 'visitor'])\n",
        "  id_home = get_key(franchises, odds.loc[i, 'home'])\n",
        "  visitor_score = int(odds.loc[i, 'visitor_score'])\n",
        "  home_score = int(odds.loc[i, 'home_score'])\n",
        "  \n",
        "\n",
        "  # print(id_visitor, id_home, visitor_score, home_score)\n",
        "  game = df_validate[(id_visitor == df_validate['id_visitor']) & (id_home == df_validate['id_home']) & (home_score == df_validate['pts_home']) & (visitor_score == df_validate['pts_visitor'])]\n",
        "  # print(game)\n",
        "  \n",
        "  if bool(real_res[i]) == prediction:\n",
        "    if prediction is True:\n",
        "      total_win += bet_size * float(visitor_odd)\n",
        "      current += bet_size * float(visitor_odd)\n",
        "    else:\n",
        "      total_win += bet_size * float(home_odd)\n",
        "      current += bet_size * float(home_odd)\n",
        "\n",
        "  total_bet += bet_size\n",
        "  current -= bet_size\n",
        "  money.append(current)\n",
        "  step.append(i)\n",
        "\n",
        "print(f'ROI = {total_win/total_bet}, count_bets = {total_bet/bet_size}, wins = {total_win}, bets = {total_bet}, cash = {total_win - total_bet}')"
      ],
      "metadata": {
        "colab": {
          "base_uri": "https://localhost:8080/"
        },
        "id": "8Rftld_MnfnL",
        "outputId": "85bca7b2-b110-4db3-ee7a-7c294d9f8955"
      },
      "execution_count": 184,
      "outputs": [
        {
          "output_type": "stream",
          "name": "stdout",
          "text": [
            "ROI = 1.21320415879017, count_bets = 7406.0, wins = 898499.0, bets = 740600, cash = 157899.0\n"
          ]
        }
      ]
    },
    {
      "cell_type": "code",
      "source": [
        "plt.plot(step, money)\n",
        "\n",
        "\n",
        "plt.xlabel('step')\n",
        "plt.ylabel('money')"
      ],
      "metadata": {
        "colab": {
          "base_uri": "https://localhost:8080/",
          "height": 297
        },
        "id": "WsH2vH6infpe",
        "outputId": "c8b43e6d-700f-4801-9b38-16e30f863a7c"
      },
      "execution_count": 182,
      "outputs": [
        {
          "output_type": "execute_result",
          "data": {
            "text/plain": [
              "Text(0, 0.5, 'money')"
            ]
          },
          "metadata": {},
          "execution_count": 182
        },
        {
          "output_type": "display_data",
          "data": {
            "text/plain": [
              "<Figure size 432x288 with 1 Axes>"
            ],
            "image/png": "[encoded data removed]"
          },
          "metadata": {
            "needs_background": "light"
          }
        }
      ]
    },
    {
      "cell_type": "code",
      "source": [
        ""
      ],
      "metadata": {
        "id": "rQF7nE4pZQcf"
      },
      "execution_count": null,
      "outputs": []
    }
  ]
}